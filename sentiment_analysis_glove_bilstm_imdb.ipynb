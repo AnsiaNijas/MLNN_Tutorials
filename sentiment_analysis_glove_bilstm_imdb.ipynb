{
  "cells": [
    {
      "cell_type": "markdown",
      "metadata": {
        "id": "view-in-github",
        "colab_type": "text"
      },
      "source": [
        "<a href=\"https://colab.research.google.com/github/AnsiaNijas/MLNN_Tutorials/blob/main/sentiment_analysis_glove_bilstm_imdb.ipynb\" target=\"_parent\"><img src=\"https://colab.research.google.com/assets/colab-badge.svg\" alt=\"Open In Colab\"/></a>"
      ]
    },
    {
      "cell_type": "markdown",
      "id": "b30a20e0",
      "metadata": {
        "id": "b30a20e0"
      },
      "source": [
        "<div style=\"text-align: center;\">\n",
        "    <h1><b>Sentiment Analysis with Pretrained GloVe Embeddings and Bidirectional LSTM on the IMDB Dataset</b></h1>\n",
        "  \n"
      ]
    },
    {
      "cell_type": "markdown",
      "id": "0d84b4d9",
      "metadata": {
        "id": "0d84b4d9"
      },
      "source": [
        "## **Introduction**\n",
        "\n",
        "Sentiment analysis is a natural language processing (NLP) task used to determine whether a piece of text expresses a positive, negative, or neutral sentiment. It is widely used in applications like analyzing customer feedback and understanding public opinion on social media.\n",
        "\n",
        "In this tutorial, we will perform sentiment analysis on the IMDB dataset using a Bidirectional LSTM model combined with pretrained GloVe embeddings. GloVe embeddings provide pre-trained word representations, helping the model understand the meaning of words effectively. I will walk through the entire process, from preparing the dataset to building and evaluating the model.\n"
      ]
    },
    {
      "cell_type": "markdown",
      "id": "7dd76a47",
      "metadata": {
        "id": "7dd76a47"
      },
      "source": [
        "\n",
        "## **Dataset Overview**\n",
        "\n",
        "### **IMDB Dataset**\n",
        "The IMDB dataset is a standard benchmark for sentiment analysis. It consists of 50,000 movie reviews:\n",
        "- **25,000 reviews for training** and **25,000 reviews for testing**.\n",
        "- Each review is labeled as either positive (1) or negative (0), making this a binary classification task.\n",
        "\n",
        "\n"
      ]
    },
    {
      "cell_type": "markdown",
      "source": [
        "## **Model Architecture**"
      ],
      "metadata": {
        "id": "ElWE5SYHMePO"
      },
      "id": "ElWE5SYHMePO"
    },
    {
      "cell_type": "markdown",
      "source": [
        "<div style=\"text-align: center;\">\n",
        "    <img src=\"https://raw.githubusercontent.com/AnsiaNijas/MLNN_Tutorials/main/sentiment_analysis_flowchart.png\"\n",
        "         alt=\"A visual representation of the model architecture for sentiment analysis using GloVe embeddings and BiLSTM. It includes layers such as GloVe embedding, Bidirectional LSTM, Dense, Dropout, and Output with sigmoid activation.\"\n",
        "         style=\"width: 70%; height: auto;\">\n",
        "    <p><em>Figure 1: Model Architecture - GloVe Embeddings and BiLSTM for Sentiment Analysis.</em></p>\n",
        "    <p style=\"font-size: 12px; color: grey;\"><em>Alt Text: A visual representation of the model architecture for sentiment analysis using GloVe embeddings and BiLSTM. It includes layers such as GloVe embedding, Bidirectional LSTM, Dense, Dropout, and Output with sigmoid activation.</em></p>\n",
        "</div>\n"
      ],
      "metadata": {
        "id": "0_Ksoog9dJhV"
      },
      "id": "0_Ksoog9dJhV"
    },
    {
      "cell_type": "markdown",
      "id": "3d789089",
      "metadata": {
        "id": "3d789089"
      },
      "source": [
        "### **The Model Architecture**\n",
        "\n",
        "This model combines pretrained GloVe embeddings with a Bidirectional LSTM network for sentiment analysis.\n",
        "\n",
        "- #### **Pretrained GloVe Embeddings**\n",
        "The embedding layer uses GloVe embeddings to convert words into dense vectors that capture semantic relationships. The embedding matrix maps each word in the dataset to its GloVe vector, while being frozen (`trainable=False`) to preserve pre-trained knowledge.(Wu et al., 2023.).\n",
        "\n",
        "- #### **Bidirectional LSTM Layer**\n",
        "A Bidirectional LSTM with 64 units processes sequences in both forward and backward directions, capturing context from both ends of a sentence.(Aburass et al., 2023).\n",
        "\n",
        "- #### **Dense and Dropout Layers**\n",
        "A dense layer with 64 units and ReLU activation extracts features, while a 50% dropout rate prevents overfitting. The output layer, with a single neuron and sigmoid activation, predicts the sentiment as a probability.\n",
        "\n",
        "This architecture combines GloVe embeddings and LSTMs for effective sentiment analysis."
      ]
    },
    {
      "cell_type": "markdown",
      "id": "06db1609",
      "metadata": {
        "id": "06db1609"
      },
      "source": [
        "## **Code Walkthrough**\n",
        "### **Setup: Preparing the Environment**\n",
        "\n",
        "In this step, we prepare the environment by importing the necessary libraries and dependencies required for the tutorial. By importing these libraries, we set up the foundational tools needed to complete the rest of the tutorial, such as data preparation, model building, training, and evaluation.\n",
        "\n"
      ]
    },
    {
      "cell_type": "code",
      "execution_count": null,
      "id": "524f060a",
      "metadata": {
        "id": "524f060a"
      },
      "outputs": [],
      "source": [
        "import numpy as np\n",
        "import tensorflow as tf\n",
        "import tensorflow_datasets as tfds\n",
        "from tensorflow.keras.preprocessing.text import Tokenizer\n",
        "from tensorflow.keras.preprocessing.sequence import pad_sequences\n",
        "import os\n",
        "import matplotlib.pyplot as plt\n",
        "import random\n",
        "from tensorflow.keras.callbacks import EarlyStopping, ReduceLROnPlateau"
      ]
    },
    {
      "cell_type": "markdown",
      "source": [
        "Next, I will set random seeds for reproducibility. This step ensures that the results remain consistent across multiple runs of the code, which is essential for reliable experimentation and debugging."
      ],
      "metadata": {
        "id": "d4KwaOOYJ-l8"
      },
      "id": "d4KwaOOYJ-l8"
    },
    {
      "cell_type": "code",
      "execution_count": null,
      "id": "fP_dgYD0GgP2",
      "metadata": {
        "id": "fP_dgYD0GgP2"
      },
      "outputs": [],
      "source": [
        "# Set random seeds\n",
        "random.seed(42)\n",
        "np.random.seed(42)\n",
        "tf.random.set_seed(42)"
      ]
    },
    {
      "cell_type": "markdown",
      "id": "6c7e51f1",
      "metadata": {
        "id": "6c7e51f1"
      },
      "source": [
        "## **Load the IMDB Dataset**\n",
        "This step uses TensorFlow Datasets (tfds) to load the IMDB dataset, which contains 50,000 movie reviews labeled as positive or negative. The tfds.load() function splits the dataset into training and testing sets, prepares the data as input-label pairs, and provides metadata for reference.\n",
        "\n",
        "This prepares the data for preprocessing in the next step."
      ]
    },
    {
      "cell_type": "code",
      "execution_count": null,
      "id": "ecc6080c",
      "metadata": {
        "id": "ecc6080c"
      },
      "outputs": [],
      "source": [
        "# Load IMDB dataset\n",
        "(train_data, test_data), info = tfds.load(\n",
        "    'imdb_reviews',\n",
        "    split=['train', 'test'],\n",
        "    as_supervised=True,\n",
        "    with_info=True\n",
        ")"
      ]
    },
    {
      "cell_type": "markdown",
      "id": "dUV0ERPbmkEF",
      "metadata": {
        "id": "dUV0ERPbmkEF"
      },
      "source": [
        "## **Exploring the IMDB Dataset**\n",
        "Let's explore the IMDB dataset to understand its structure and content. After loading the dataset, exploring it is a crucial step to ensure we are familiar with the data format, features, and labels. This will help us prepare the data effectively for modeling."
      ]
    },
    {
      "cell_type": "code",
      "execution_count": null,
      "id": "sr1z1xPBmoyM",
      "metadata": {
        "colab": {
          "base_uri": "https://localhost:8080/"
        },
        "id": "sr1z1xPBmoyM",
        "outputId": "cdcc07c2-92c7-4f53-d31a-52932e4176c1"
      },
      "outputs": [
        {
          "name": "stdout",
          "output_type": "stream",
          "text": [
            "tfds.core.DatasetInfo(\n",
            "    name='imdb_reviews',\n",
            "    full_name='imdb_reviews/plain_text/1.0.0',\n",
            "    description=\"\"\"\n",
            "    Large Movie Review Dataset. This is a dataset for binary sentiment\n",
            "    classification containing substantially more data than previous benchmark\n",
            "    datasets. We provide a set of 25,000 highly polar movie reviews for training,\n",
            "    and 25,000 for testing. There is additional unlabeled data for use as well.\n",
            "    \"\"\",\n",
            "    config_description=\"\"\"\n",
            "    Plain text\n",
            "    \"\"\",\n",
            "    homepage='http://ai.stanford.edu/~amaas/data/sentiment/',\n",
            "    data_dir='/root/tensorflow_datasets/imdb_reviews/plain_text/1.0.0',\n",
            "    file_format=tfrecord,\n",
            "    download_size=80.23 MiB,\n",
            "    dataset_size=129.83 MiB,\n",
            "    features=FeaturesDict({\n",
            "        'label': ClassLabel(shape=(), dtype=int64, num_classes=2),\n",
            "        'text': Text(shape=(), dtype=string),\n",
            "    }),\n",
            "    supervised_keys=('text', 'label'),\n",
            "    disable_shuffling=False,\n",
            "    splits={\n",
            "        'test': <SplitInfo num_examples=25000, num_shards=1>,\n",
            "        'train': <SplitInfo num_examples=25000, num_shards=1>,\n",
            "        'unsupervised': <SplitInfo num_examples=50000, num_shards=1>,\n",
            "    },\n",
            "    citation=\"\"\"@InProceedings{maas-EtAl:2011:ACL-HLT2011,\n",
            "      author    = {Maas, Andrew L.  and  Daly, Raymond E.  and  Pham, Peter T.  and  Huang, Dan  and  Ng, Andrew Y.  and  Potts, Christopher},\n",
            "      title     = {Learning Word Vectors for Sentiment Analysis},\n",
            "      booktitle = {Proceedings of the 49th Annual Meeting of the Association for Computational Linguistics: Human Language Technologies},\n",
            "      month     = {June},\n",
            "      year      = {2011},\n",
            "      address   = {Portland, Oregon, USA},\n",
            "      publisher = {Association for Computational Linguistics},\n",
            "      pages     = {142--150},\n",
            "      url       = {http://www.aclweb.org/anthology/P11-1015}\n",
            "    }\"\"\",\n",
            ")\n",
            "Review: This was an absolutely terrible movie. Don't be lured in by Christopher Walken or Michael Ironside. Both are great actors, but this must simply be their worst role in history. Even their great acting could not redeem this movie's ridiculous storyline. This movie is an early nineties US propaganda piece. The most pathetic scenes were those when the Columbian rebels were making their cases for revolutions. Maria Conchita Alonso appeared phony, and her pseudo-love affair with Walken was nothing but a pathetic emotional plug in a movie that was devoid of any real meaning. I am disappointed that there are movies like this, ruining actor's like Christopher Walken's good name. I could barely sit through it.\n",
            "Label: 0\n",
            "\n",
            "Review: I have been known to fall asleep during films, but this is usually due to a combination of things including, really tired, being warm and comfortable on the sette and having just eaten a lot. However on this occasion I fell asleep because the film was rubbish. The plot development was constant. Constantly slow and boring. Things seemed to happen, but with no explanation of what was causing them or why. I admit, I may have missed part of the film, but i watched the majority of it and everything just seemed to happen of its own accord without any real concern for anything else. I cant recommend this film at all.\n",
            "Label: 0\n",
            "\n",
            "Review: Mann photographs the Alberta Rocky Mountains in a superb fashion, and Jimmy Stewart and Walter Brennan give enjoyable performances as they always seem to do. <br /><br />But come on Hollywood - a Mountie telling the people of Dawson City, Yukon to elect themselves a marshal (yes a marshal!) and to enforce the law themselves, then gunfighters battling it out on the streets for control of the town? <br /><br />Nothing even remotely resembling that happened on the Canadian side of the border during the Klondike gold rush. Mr. Mann and company appear to have mistaken Dawson City for Deadwood, the Canadian North for the American Wild West.<br /><br />Canadian viewers be prepared for a Reefer Madness type of enjoyable howl with this ludicrous plot, or, to shake your head in disgust.\n",
            "Label: 0\n",
            "\n",
            "Number of training examples: 25000\n",
            "Number of testing examples: 25000\n"
          ]
        }
      ],
      "source": [
        "# Check the dataset metadata\n",
        "print(info)\n",
        "\n",
        "# Display a few examples from the training data\n",
        "for text, label in train_data.take(3):\n",
        "    print(f\"Review: {text.numpy().decode('utf-8')}\")\n",
        "    print(f\"Label: {label.numpy()}\\n\")\n",
        "\n",
        "# Count the number of examples in the training and testing sets\n",
        "train_count = len(list(train_data))\n",
        "test_count = len(list(test_data))\n",
        "print(f\"Number of training examples: {train_count}\")\n",
        "print(f\"Number of testing examples: {test_count}\")\n"
      ]
    },
    {
      "cell_type": "markdown",
      "id": "5d31da45",
      "metadata": {
        "id": "5d31da45"
      },
      "source": [
        "## **Preprocess the Data**\n",
        "Now that we’ve loaded the dataset, let’s extract the sentences (reviews) and their corresponding labels to prepare the data for further processing. This step ensures the data is in a structured format that the model can understand."
      ]
    },
    {
      "cell_type": "code",
      "execution_count": null,
      "id": "de702fae",
      "metadata": {
        "id": "de702fae"
      },
      "outputs": [],
      "source": [
        "# Extract sentences and labels\n",
        "train_sentences, train_labels = [], []\n",
        "test_sentences, test_labels = [], []\n",
        "\n",
        "for s, l in train_data:\n",
        "    train_sentences.append(s.numpy().decode('utf8'))\n",
        "    train_labels.append(l.numpy())\n",
        "\n",
        "for s, l in test_data:\n",
        "    test_sentences.append(s.numpy().decode('utf8'))\n",
        "    test_labels.append(l.numpy())\n",
        "\n",
        "train_labels = np.array(train_labels)\n",
        "test_labels = np.array(test_labels)"
      ]
    },
    {
      "cell_type": "markdown",
      "id": "2IztWq8spOsV",
      "metadata": {
        "id": "2IztWq8spOsV"
      },
      "source": [
        "#### **What’s Happening Here?**\n",
        "- **Extracting Sentences**:  \n",
        "  We iterate through the training and testing datasets to extract the movie reviews. Each review, initially stored as a tensor, is converted to plain text using `.numpy().decode('utf8')`.\n",
        "\n",
        "- **Extracting Labels**:  \n",
        "  Alongside the reviews, we extract the sentiment labels. Labels are integers, where `0` indicates a negative review and `1` indicates a positive review.\n",
        "\n",
        "- **Converting Labels to Arrays**:  \n",
        "  Finally, the labels are converted into numpy arrays. This makes them compatible with the machine learning tools we’ll use later.\n",
        "\n",
        "Let’s move on to the next step, where we tokenize and prepare the text for the model!"
      ]
    },
    {
      "cell_type": "markdown",
      "id": "75ea8206",
      "metadata": {
        "id": "75ea8206"
      },
      "source": [
        "## **Tokenize and Pad Sequences**\n",
        "In this step, we process the text data into a numerical format that the machine learning model can understand. This involves tokenizing the text into sequences of integers and then padding these sequences to ensure uniform input length."
      ]
    },
    {
      "cell_type": "code",
      "execution_count": null,
      "id": "a40abdff",
      "metadata": {
        "id": "a40abdff"
      },
      "outputs": [],
      "source": [
        "# Parameters\n",
        "vocab_size = 20000\n",
        "embedding_dim = 100\n",
        "max_length = 100\n",
        "trunc_type = 'post'\n",
        "padding_type = 'post'\n",
        "oov_tok = \"<OOV>\"\n",
        "\n",
        "# Tokenizer\n",
        "tokenizer = Tokenizer(num_words=vocab_size, oov_token=oov_tok)\n",
        "tokenizer.fit_on_texts(train_sentences)\n",
        "word_index = tokenizer.word_index\n",
        "\n",
        "# Convert texts to sequences\n",
        "train_sequences = tokenizer.texts_to_sequences(train_sentences)\n",
        "test_sequences = tokenizer.texts_to_sequences(test_sentences)\n",
        "\n",
        "# Pad sequences\n",
        "train_padded = pad_sequences(train_sequences, maxlen=max_length, padding=padding_type, truncating=trunc_type)\n",
        "test_padded = pad_sequences(test_sequences, maxlen=max_length, padding=padding_type, truncating=trunc_type)"
      ]
    },
    {
      "cell_type": "markdown",
      "id": "9ae48ca6",
      "metadata": {
        "id": "9ae48ca6"
      },
      "source": [
        "## **Load Pretrained GloVe Embeddings**\n",
        "Now that we have tokenized and padded the text data, let’s bring in pre-trained GloVe embeddings to add semantic meaning to our words. These embeddings are widely used in NLP tasks because they capture relationships between words based on their co-occurrence in large corpora.\n",
        "\n",
        "#### **What’s Happening Here?**\n",
        "**Downloading GloVe Embeddings**:\n",
        "\n",
        "First, we download the GloVe embeddings file from Stanford’s repository. This file contains pre-trained word vectors for a vocabulary of words"
      ]
    },
    {
      "cell_type": "code",
      "execution_count": null,
      "id": "I2C-mX2HsDkr",
      "metadata": {
        "colab": {
          "base_uri": "https://localhost:8080/"
        },
        "id": "I2C-mX2HsDkr",
        "outputId": "d58a361b-e951-4cf0-c905-ab50f3883e06"
      },
      "outputs": [
        {
          "name": "stdout",
          "output_type": "stream",
          "text": [
            "GloVe embeddings already exist. Skipping download.\n"
          ]
        }
      ],
      "source": [
        "# Check if the GloVe embeddings are already downloaded\n",
        "if not os.path.exists('./glove.6B/glove.6B.100d.txt'):\n",
        "    print(\"GloVe embeddings not found. Downloading...\")\n",
        "     # Download GloVe embeddings\n",
        "    !wget http://nlp.stanford.edu/data/glove.6B.zip\n",
        "    !unzip -q glove.6B.zip -d ./glove.6B/\n",
        "else:\n",
        "    print(\"GloVe embeddings already exist. Skipping download.\")"
      ]
    },
    {
      "cell_type": "markdown",
      "id": "h_3jfnpSsG5F",
      "metadata": {
        "id": "h_3jfnpSsG5F"
      },
      "source": [
        "**Loading Embeddings:**\n",
        "\n",
        "Next, we load these embeddings into a Python dictionary. In this dictionary:\n",
        "Each key is a word from the vocabulary.\n",
        "Each value is a vector representing the semantic meaning of the word."
      ]
    },
    {
      "cell_type": "code",
      "execution_count": null,
      "id": "dd4558fb",
      "metadata": {
        "id": "dd4558fb"
      },
      "outputs": [],
      "source": [
        "# Load embeddings into a dictionary\n",
        "embeddings_index = {}\n",
        "with open('./glove.6B/glove.6B.100d.txt', encoding='utf8') as f:\n",
        "    for line in f:\n",
        "        values = line.split()\n",
        "        word = values[0]\n",
        "        coefs = np.asarray(values[1:], dtype='float32')\n",
        "        embeddings_index[word] = coefs"
      ]
    },
    {
      "cell_type": "markdown",
      "id": "D_p-P-Ttsd7q",
      "metadata": {
        "id": "D_p-P-Ttsd7q"
      },
      "source": [
        "#### **Why Are We Doing This?**\n",
        "GloVe embeddings capture the relationships and similarities between words, such as synonyms or words used in similar contexts. By using these pre-trained embeddings, the model starts with a strong understanding of word meanings without needing to learn them from scratch. This significantly improves the model's performance, especially when working with smaller datasets, as it improves knowledge from large, pre-trained corpora.\n",
        "\n",
        "With the embeddings loaded, we are now ready to integrate them into the model architecture to enhance its understanding of semantic relationships! Let’s proceed to the next step."
      ]
    },
    {
      "cell_type": "markdown",
      "id": "42c1f131",
      "metadata": {
        "id": "42c1f131"
      },
      "source": [
        "## **Create Embedding Matrix**\n",
        "Now that we’ve loaded the GloVe embeddings, let’s create an embedding matrix that will map the words in our dataset to their corresponding GloVe vectors. This matrix will serve as the foundation for the embedding layer in our model."
      ]
    },
    {
      "cell_type": "code",
      "execution_count": null,
      "id": "62be26c5",
      "metadata": {
        "id": "62be26c5"
      },
      "outputs": [],
      "source": [
        "# Create embedding matrix\n",
        "embedding_matrix = np.zeros((vocab_size, embedding_dim))\n",
        "for word, i in word_index.items():\n",
        "    if i < vocab_size:\n",
        "        embedding_vector = embeddings_index.get(word)\n",
        "        if embedding_vector is not None:\n",
        "            embedding_matrix[i] = embedding_vector"
      ]
    },
    {
      "cell_type": "markdown",
      "id": "lGnkfCrAtTkJ",
      "metadata": {
        "id": "lGnkfCrAtTkJ"
      },
      "source": [
        "This embedding matrix is now ready to be integrated into the embedding layer of our model. Let’s proceed to build the model!"
      ]
    },
    {
      "cell_type": "markdown",
      "id": "60cc0059",
      "metadata": {
        "id": "60cc0059"
      },
      "source": [
        "## **Building the Model**\n",
        "\n",
        "Now, let’s build a model for sentiment analysis that incorporates GloVe embeddings, a Bidirectional LSTM layer, and dense layers for binary classification.\n",
        "\n",
        "---\n",
        "\n",
        "#### **What Are We Doing?**\n",
        "We are creating a structured architecture with the following components:\n",
        "\n",
        "1. **Embedding Layer**:\n",
        "   - Integrates the pretrained GloVe embedding matrix to represent words as dense vectors.\n",
        "   - Set to `trainable=False` to keep the pretrained embeddings unchanged during training.\n",
        "\n",
        "2. **Bidirectional LSTM**:\n",
        "   - Processes sequences in both forward and backward directions, enhancing the model’s ability to capture context.\n",
        "   - Includes 64 units to learn long-term dependencies in the text.\n",
        "\n",
        "3. **Dense Layer**:\n",
        "   - A fully connected layer with 64 units and ReLU activation, responsible for extracting high-level features from the LSTM output.\n",
        "\n",
        "4. **Dropout Layer**:\n",
        "   - Applies a 50% dropout rate to prevent overfitting by disabling random neurons during training.\n",
        "\n",
        "5. **Output Layer**:\n",
        "   - A single neuron with sigmoid activation outputs a probability for binary classification, determining the sentiment as positive or negative.\n",
        "\n",
        "This model combines the power of GloVe embeddings with LSTM’s sequential processing capabilities to create an effective solution for sentiment analysis."
      ]
    },
    {
      "cell_type": "code",
      "execution_count": null,
      "id": "ce463a9f",
      "metadata": {
        "id": "ce463a9f"
      },
      "outputs": [],
      "source": [
        "model = tf.keras.Sequential([\n",
        "    tf.keras.layers.Embedding(vocab_size, embedding_dim, input_length=max_length, weights=[embedding_matrix], trainable=False),\n",
        "    tf.keras.layers.Bidirectional(tf.keras.layers.LSTM(64)),\n",
        "    tf.keras.layers.Dense(64, activation='relu'),\n",
        "    tf.keras.layers.Dropout(0.5),\n",
        "    tf.keras.layers.Dense(1, activation='sigmoid')\n",
        "])\n",
        "model.build(input_shape=(None, max_length))  # Specify the input shape\n",
        "\n"
      ]
    },
    {
      "cell_type": "markdown",
      "id": "6d4KdyP6v_nl",
      "metadata": {
        "id": "6d4KdyP6v_nl"
      },
      "source": [
        "Now that we’ve built the model, let’s print the model summary to understand its structure and the number of parameters."
      ]
    },
    {
      "cell_type": "code",
      "execution_count": null,
      "id": "UApOlHBnv-vb",
      "metadata": {
        "colab": {
          "base_uri": "https://localhost:8080/",
          "height": 306
        },
        "id": "UApOlHBnv-vb",
        "outputId": "757ac4e7-cb32-4f9e-dbd1-a7e1d50e682e"
      },
      "outputs": [
        {
          "data": {
            "text/html": [
              "<pre style=\"white-space:pre;overflow-x:auto;line-height:normal;font-family:Menlo,'DejaVu Sans Mono',consolas,'Courier New',monospace\"><span style=\"font-weight: bold\">Model: \"sequential_3\"</span>\n",
              "</pre>\n"
            ],
            "text/plain": [
              "\u001b[1mModel: \"sequential_3\"\u001b[0m\n"
            ]
          },
          "metadata": {},
          "output_type": "display_data"
        },
        {
          "data": {
            "text/html": [
              "<pre style=\"white-space:pre;overflow-x:auto;line-height:normal;font-family:Menlo,'DejaVu Sans Mono',consolas,'Courier New',monospace\">┏━━━━━━━━━━━━━━━━━━━━━━━━━━━━━━━━━━━━━━┳━━━━━━━━━━━━━━━━━━━━━━━━━━━━━┳━━━━━━━━━━━━━━━━━┓\n",
              "┃<span style=\"font-weight: bold\"> Layer (type)                         </span>┃<span style=\"font-weight: bold\"> Output Shape                </span>┃<span style=\"font-weight: bold\">         Param # </span>┃\n",
              "┡━━━━━━━━━━━━━━━━━━━━━━━━━━━━━━━━━━━━━━╇━━━━━━━━━━━━━━━━━━━━━━━━━━━━━╇━━━━━━━━━━━━━━━━━┩\n",
              "│ embedding_3 (<span style=\"color: #0087ff; text-decoration-color: #0087ff\">Embedding</span>)              │ (<span style=\"color: #00d7ff; text-decoration-color: #00d7ff\">None</span>, <span style=\"color: #00af00; text-decoration-color: #00af00\">100</span>, <span style=\"color: #00af00; text-decoration-color: #00af00\">100</span>)            │       <span style=\"color: #00af00; text-decoration-color: #00af00\">2,000,000</span> │\n",
              "├──────────────────────────────────────┼─────────────────────────────┼─────────────────┤\n",
              "│ bidirectional_3 (<span style=\"color: #0087ff; text-decoration-color: #0087ff\">Bidirectional</span>)      │ (<span style=\"color: #00d7ff; text-decoration-color: #00d7ff\">None</span>, <span style=\"color: #00af00; text-decoration-color: #00af00\">128</span>)                 │          <span style=\"color: #00af00; text-decoration-color: #00af00\">84,480</span> │\n",
              "├──────────────────────────────────────┼─────────────────────────────┼─────────────────┤\n",
              "│ dense_6 (<span style=\"color: #0087ff; text-decoration-color: #0087ff\">Dense</span>)                      │ (<span style=\"color: #00d7ff; text-decoration-color: #00d7ff\">None</span>, <span style=\"color: #00af00; text-decoration-color: #00af00\">64</span>)                  │           <span style=\"color: #00af00; text-decoration-color: #00af00\">8,256</span> │\n",
              "├──────────────────────────────────────┼─────────────────────────────┼─────────────────┤\n",
              "│ dropout_3 (<span style=\"color: #0087ff; text-decoration-color: #0087ff\">Dropout</span>)                  │ (<span style=\"color: #00d7ff; text-decoration-color: #00d7ff\">None</span>, <span style=\"color: #00af00; text-decoration-color: #00af00\">64</span>)                  │               <span style=\"color: #00af00; text-decoration-color: #00af00\">0</span> │\n",
              "├──────────────────────────────────────┼─────────────────────────────┼─────────────────┤\n",
              "│ dense_7 (<span style=\"color: #0087ff; text-decoration-color: #0087ff\">Dense</span>)                      │ (<span style=\"color: #00d7ff; text-decoration-color: #00d7ff\">None</span>, <span style=\"color: #00af00; text-decoration-color: #00af00\">1</span>)                   │              <span style=\"color: #00af00; text-decoration-color: #00af00\">65</span> │\n",
              "└──────────────────────────────────────┴─────────────────────────────┴─────────────────┘\n",
              "</pre>\n"
            ],
            "text/plain": [
              "┏━━━━━━━━━━━━━━━━━━━━━━━━━━━━━━━━━━━━━━┳━━━━━━━━━━━━━━━━━━━━━━━━━━━━━┳━━━━━━━━━━━━━━━━━┓\n",
              "┃\u001b[1m \u001b[0m\u001b[1mLayer (type)                        \u001b[0m\u001b[1m \u001b[0m┃\u001b[1m \u001b[0m\u001b[1mOutput Shape               \u001b[0m\u001b[1m \u001b[0m┃\u001b[1m \u001b[0m\u001b[1m        Param #\u001b[0m\u001b[1m \u001b[0m┃\n",
              "┡━━━━━━━━━━━━━━━━━━━━━━━━━━━━━━━━━━━━━━╇━━━━━━━━━━━━━━━━━━━━━━━━━━━━━╇━━━━━━━━━━━━━━━━━┩\n",
              "│ embedding_3 (\u001b[38;5;33mEmbedding\u001b[0m)              │ (\u001b[38;5;45mNone\u001b[0m, \u001b[38;5;34m100\u001b[0m, \u001b[38;5;34m100\u001b[0m)            │       \u001b[38;5;34m2,000,000\u001b[0m │\n",
              "├──────────────────────────────────────┼─────────────────────────────┼─────────────────┤\n",
              "│ bidirectional_3 (\u001b[38;5;33mBidirectional\u001b[0m)      │ (\u001b[38;5;45mNone\u001b[0m, \u001b[38;5;34m128\u001b[0m)                 │          \u001b[38;5;34m84,480\u001b[0m │\n",
              "├──────────────────────────────────────┼─────────────────────────────┼─────────────────┤\n",
              "│ dense_6 (\u001b[38;5;33mDense\u001b[0m)                      │ (\u001b[38;5;45mNone\u001b[0m, \u001b[38;5;34m64\u001b[0m)                  │           \u001b[38;5;34m8,256\u001b[0m │\n",
              "├──────────────────────────────────────┼─────────────────────────────┼─────────────────┤\n",
              "│ dropout_3 (\u001b[38;5;33mDropout\u001b[0m)                  │ (\u001b[38;5;45mNone\u001b[0m, \u001b[38;5;34m64\u001b[0m)                  │               \u001b[38;5;34m0\u001b[0m │\n",
              "├──────────────────────────────────────┼─────────────────────────────┼─────────────────┤\n",
              "│ dense_7 (\u001b[38;5;33mDense\u001b[0m)                      │ (\u001b[38;5;45mNone\u001b[0m, \u001b[38;5;34m1\u001b[0m)                   │              \u001b[38;5;34m65\u001b[0m │\n",
              "└──────────────────────────────────────┴─────────────────────────────┴─────────────────┘\n"
            ]
          },
          "metadata": {},
          "output_type": "display_data"
        },
        {
          "data": {
            "text/html": [
              "<pre style=\"white-space:pre;overflow-x:auto;line-height:normal;font-family:Menlo,'DejaVu Sans Mono',consolas,'Courier New',monospace\"><span style=\"font-weight: bold\"> Total params: </span><span style=\"color: #00af00; text-decoration-color: #00af00\">2,092,801</span> (7.98 MB)\n",
              "</pre>\n"
            ],
            "text/plain": [
              "\u001b[1m Total params: \u001b[0m\u001b[38;5;34m2,092,801\u001b[0m (7.98 MB)\n"
            ]
          },
          "metadata": {},
          "output_type": "display_data"
        },
        {
          "data": {
            "text/html": [
              "<pre style=\"white-space:pre;overflow-x:auto;line-height:normal;font-family:Menlo,'DejaVu Sans Mono',consolas,'Courier New',monospace\"><span style=\"font-weight: bold\"> Trainable params: </span><span style=\"color: #00af00; text-decoration-color: #00af00\">92,801</span> (362.50 KB)\n",
              "</pre>\n"
            ],
            "text/plain": [
              "\u001b[1m Trainable params: \u001b[0m\u001b[38;5;34m92,801\u001b[0m (362.50 KB)\n"
            ]
          },
          "metadata": {},
          "output_type": "display_data"
        },
        {
          "data": {
            "text/html": [
              "<pre style=\"white-space:pre;overflow-x:auto;line-height:normal;font-family:Menlo,'DejaVu Sans Mono',consolas,'Courier New',monospace\"><span style=\"font-weight: bold\"> Non-trainable params: </span><span style=\"color: #00af00; text-decoration-color: #00af00\">2,000,000</span> (7.63 MB)\n",
              "</pre>\n"
            ],
            "text/plain": [
              "\u001b[1m Non-trainable params: \u001b[0m\u001b[38;5;34m2,000,000\u001b[0m (7.63 MB)\n"
            ]
          },
          "metadata": {},
          "output_type": "display_data"
        }
      ],
      "source": [
        "# Model summary\n",
        "model.summary()"
      ]
    },
    {
      "cell_type": "markdown",
      "id": "Gab_9ZOb0T8P",
      "metadata": {
        "id": "Gab_9ZOb0T8P"
      },
      "source": [
        "## **Compile the Model**\n",
        "After building the model, the next step is to compile it. Compiling the model sets up the loss function, optimizer, and evaluation metrics, which define how the model learns and measures its performance.\n",
        "\n",
        "Compiling the model involves defining key components that guide its learning process. First, we set the loss function to binary_crossentropy, which measures the difference between the predicted and actual labels for our binary classification task. Next, we choose the optimizer, adam, to adjust the model’s weights efficiently during training and minimize the loss. Finally, we specify accuracy as the evaluation metric, allowing us to monitor how often the model correctly predicts the sentiment."
      ]
    },
    {
      "cell_type": "code",
      "execution_count": null,
      "id": "Nh4t0wYruT5c",
      "metadata": {
        "id": "Nh4t0wYruT5c"
      },
      "outputs": [],
      "source": [
        "# Compile the model\n",
        "model.compile(loss='binary_crossentropy', optimizer='adam', metrics=['accuracy'])\n"
      ]
    },
    {
      "cell_type": "markdown",
      "id": "TyrXkvcle6L2",
      "metadata": {
        "id": "TyrXkvcle6L2"
      },
      "source": [
        "## **Adding Callbacks**\n",
        "\n",
        "In this step, we introduce two essential callbacks, **`EarlyStopping`** and **`ReduceLROnPlateau`**, to enhance the training process by monitoring model performance and dynamically adjusting the learning rate. **`EarlyStopping`** halts training when validation loss stops improving and restores the best model weights, while **`ReduceLROnPlateau`** reduces the learning rate if progress stagnates. Together, these callbacks improve training efficiency and help prevent overfitting. Let’s integrate them into the process!"
      ]
    },
    {
      "cell_type": "code",
      "execution_count": null,
      "id": "0LtU9dHHe75J",
      "metadata": {
        "id": "0LtU9dHHe75J"
      },
      "outputs": [],
      "source": [
        "#Add Callbacks\n",
        "early_stopping = EarlyStopping(monitor='val_loss', patience=3, restore_best_weights=True)\n",
        "reduce_lr = ReduceLROnPlateau(monitor='val_loss', factor=0.5, patience=2, min_lr=1e-5)"
      ]
    },
    {
      "cell_type": "markdown",
      "id": "397a963e",
      "metadata": {
        "id": "397a963e"
      },
      "source": [
        "## **Train the Model**\n",
        "\n",
        "Let’s train the model to learn the patterns in the data. We provide the training data and labels so the model can understand how to classify sentiments. We also use validation data to monitor its performance on unseen data during training. By repeating the process for 10 epochs, the model gradually improves its accuracy. After training, the model will be ready for evaluation and predictions!"
      ]
    },
    {
      "cell_type": "code",
      "execution_count": null,
      "id": "28a6e138",
      "metadata": {
        "colab": {
          "base_uri": "https://localhost:8080/"
        },
        "id": "28a6e138",
        "outputId": "6666f108-8215-4f00-f56a-3dd30b8d1c1b"
      },
      "outputs": [
        {
          "name": "stdout",
          "output_type": "stream",
          "text": [
            "Epoch 1/40\n",
            "391/391 - 159s - 405ms/step - accuracy: 0.6815 - loss: 0.5881 - val_accuracy: 0.7562 - val_loss: 0.5014 - learning_rate: 0.0010\n",
            "Epoch 2/40\n",
            "391/391 - 201s - 514ms/step - accuracy: 0.7739 - loss: 0.4813 - val_accuracy: 0.7850 - val_loss: 0.4570 - learning_rate: 0.0010\n",
            "Epoch 3/40\n",
            "391/391 - 201s - 514ms/step - accuracy: 0.7935 - loss: 0.4443 - val_accuracy: 0.7962 - val_loss: 0.4339 - learning_rate: 0.0010\n",
            "Epoch 4/40\n",
            "391/391 - 150s - 384ms/step - accuracy: 0.8106 - loss: 0.4158 - val_accuracy: 0.8043 - val_loss: 0.4210 - learning_rate: 0.0010\n",
            "Epoch 5/40\n",
            "391/391 - 240s - 614ms/step - accuracy: 0.8234 - loss: 0.3907 - val_accuracy: 0.8086 - val_loss: 0.4141 - learning_rate: 0.0010\n",
            "Epoch 6/40\n",
            "391/391 - 200s - 511ms/step - accuracy: 0.8339 - loss: 0.3704 - val_accuracy: 0.8088 - val_loss: 0.4127 - learning_rate: 0.0010\n",
            "Epoch 7/40\n",
            "391/391 - 198s - 506ms/step - accuracy: 0.8451 - loss: 0.3483 - val_accuracy: 0.8087 - val_loss: 0.4150 - learning_rate: 0.0010\n",
            "Epoch 8/40\n",
            "391/391 - 203s - 520ms/step - accuracy: 0.8578 - loss: 0.3257 - val_accuracy: 0.8081 - val_loss: 0.4240 - learning_rate: 0.0010\n",
            "Epoch 9/40\n",
            "391/391 - 201s - 513ms/step - accuracy: 0.8728 - loss: 0.2947 - val_accuracy: 0.8037 - val_loss: 0.4386 - learning_rate: 5.0000e-04\n"
          ]
        }
      ],
      "source": [
        "# Train the model\n",
        "num_epochs = 40\n",
        "history = model.fit(\n",
        "    train_padded,\n",
        "    train_labels,\n",
        "    epochs=num_epochs,\n",
        "    batch_size=64,\n",
        "    validation_split=0.2,\n",
        "    validation_data=(test_padded, test_labels),\n",
        "    callbacks=[early_stopping, reduce_lr],\n",
        "    verbose=2\n",
        ")"
      ]
    },
    {
      "cell_type": "markdown",
      "id": "dbda6401",
      "metadata": {
        "id": "dbda6401"
      },
      "source": [
        "## **Evaluate the Model**\n",
        "\n",
        "Let’s evaluate the model to see how well it performs on unseen data. We use the test dataset to calculate the accuracy and loss, which give us an idea of the model’s overall effectiveness. This step helps us understand how well the model can generalize to new inputs. Let’s check the test accuracy to assess our model’s performance!"
      ]
    },
    {
      "cell_type": "code",
      "execution_count": null,
      "id": "9bc5d55d",
      "metadata": {
        "colab": {
          "base_uri": "https://localhost:8080/"
        },
        "id": "9bc5d55d",
        "outputId": "36ebe892-8eb1-45a2-f212-e61304c9c28e"
      },
      "outputs": [
        {
          "name": "stdout",
          "output_type": "stream",
          "text": [
            "\u001b[1m782/782\u001b[0m \u001b[32m━━━━━━━━━━━━━━━━━━━━\u001b[0m\u001b[37m\u001b[0m \u001b[1m40s\u001b[0m 51ms/step - accuracy: 0.8092 - loss: 0.4149\n",
            "Test Accuracy: 0.8088\n"
          ]
        }
      ],
      "source": [
        "# Evaluate the model\n",
        "loss, accuracy = model.evaluate(test_padded, test_labels)\n",
        "print(f'Test Accuracy: {accuracy:.4f}')"
      ]
    },
    {
      "cell_type": "markdown",
      "id": "6fbdc0ce",
      "metadata": {
        "id": "6fbdc0ce"
      },
      "source": [
        "## **Save the Model**\n",
        "\n",
        "Let’s save the trained model so we can reuse it later for predictions or further analysis without retraining. This ensures we preserve all the progress made during training and makes the model ready for deployment or sharing!"
      ]
    },
    {
      "cell_type": "code",
      "execution_count": null,
      "id": "2dab7629",
      "metadata": {
        "colab": {
          "base_uri": "https://localhost:8080/"
        },
        "id": "2dab7629",
        "outputId": "53760b3b-efef-4763-8e3e-195ec873d76e"
      },
      "outputs": [
        {
          "name": "stderr",
          "output_type": "stream",
          "text": [
            "WARNING:absl:You are saving your model as an HDF5 file via `model.save()` or `keras.saving.save_model(model)`. This file format is considered legacy. We recommend using instead the native Keras format, e.g. `model.save('my_model.keras')` or `keras.saving.save_model(model, 'my_model.keras')`. \n"
          ]
        }
      ],
      "source": [
        "# Save the model\n",
        "model.save('sentiment_analysis_glove_bilstm.h5')"
      ]
    },
    {
      "cell_type": "markdown",
      "id": "d0rtdzyE8W2j",
      "metadata": {
        "id": "d0rtdzyE8W2j"
      },
      "source": [
        "Let’s plot training and validation accuracy and loss to evaluate the model’s learning and generalization. Accuracy reflects pattern recognition, while loss measures error minimization. By extracting metrics such as `history.history['accuracy']`, `history.history['val_accuracy']`, `history.history['loss']`, and `history.history['val_loss']`, we can analyze performance trends over epochs. These visualizations help identify overfitting, underfitting, and areas for improvement, ensuring the model’s effectiveness."
      ]
    },
    {
      "cell_type": "code",
      "execution_count": null,
      "id": "ZSMOM2WV8XpI",
      "metadata": {
        "colab": {
          "base_uri": "https://localhost:8080/",
          "height": 601
        },
        "id": "ZSMOM2WV8XpI",
        "outputId": "ca0e1fd5-91ee-477e-a611-f7c5d3c641af"
      },
      "outputs": [
        {
          "data": {
            "image/png": "[encoded data removed]",
            "text/plain": [
              "<Figure size 1200x600 with 1 Axes>"
            ]
          },
          "metadata": {},
          "output_type": "display_data"
        },
        {
          "name": "stdout",
          "output_type": "stream",
          "text": [
            "Alt Text: A line plot showing Training and Validation Accuracy over 9 epochs. The x-axis represents the number of epochs, ranging from 0 to 8, while the y-axis represents accuracy, ranging from 0.675 to 0.875. The training accuracy is depicted with a solid blue line and circular markers, showing a steady increase across epochs. The validation accuracy is shown with a dashed orange line and cross markers, increasing initially but plateauing and slightly declining towards the later epochs. The graph includes a legend indicating 'Training Accuracy' and 'Validation Accuracy'.\n"
          ]
        }
      ],
      "source": [
        "# Plot accuracy\n",
        "plt.figure(figsize=(12, 6))\n",
        "plt.plot(history.history['accuracy'], label='Training Accuracy', linestyle='solid', marker='o')\n",
        "plt.plot(history.history['val_accuracy'], label='Validation Accuracy', linestyle='dashed', marker='x')\n",
        "plt.xlabel('Epochs')\n",
        "plt.ylabel('Accuracy')\n",
        "plt.title('Training and Validation Accuracy')\n",
        "plt.legend(loc='best')\n",
        "plt.grid(True)  # Add grid lines for better readability\n",
        "plt.show()\n",
        "alt_text=\"A line plot showing Training and Validation Accuracy over 9 epochs. The x-axis represents the number of epochs, ranging from 0 to 8, while the y-axis represents accuracy, ranging from 0.675 to 0.875. The training accuracy is depicted with a solid blue line and circular markers, showing a steady increase across epochs. The validation accuracy is shown with a dashed orange line and cross markers, increasing initially but plateauing and slightly declining towards the later epochs. The graph includes a legend indicating 'Training Accuracy' and 'Validation Accuracy'.\"\n",
        "print(f\"Alt Text: {alt_text}\")"
      ]
    },
    {
      "cell_type": "markdown",
      "id": "qvbGxvFi_JEL",
      "metadata": {
        "id": "qvbGxvFi_JEL"
      },
      "source": [
        "In this plot, the circular markers represent the training accuracy, while the dashed lines with cross markers represent the validation accuracy.\n",
        "\n",
        "The training accuracy steadily increases with each epoch, showing that the model is learning and fitting the training data well. The validation accuracy also improves initially but plateaus after a few epochs, indicating that the model has reached its optimal performance on unseen data. Since early stopping was used, the training was automatically halted once the validation accuracy stopped improving, preventing the model from overfitting to the training data.\n"
      ]
    },
    {
      "cell_type": "code",
      "execution_count": null,
      "id": "fNmiXSiC8ZQl",
      "metadata": {
        "colab": {
          "base_uri": "https://localhost:8080/",
          "height": 601
        },
        "id": "fNmiXSiC8ZQl",
        "outputId": "6ef28a83-8ca6-4cd6-e602-9d9158f31f48"
      },
      "outputs": [
        {
          "data": {
            "image/png": "[encoded data removed]",
            "text/plain": [
              "<Figure size 1200x600 with 1 Axes>"
            ]
          },
          "metadata": {},
          "output_type": "display_data"
        },
        {
          "name": "stdout",
          "output_type": "stream",
          "text": [
            "Alt Text: A line plot showing the Training and Validation Loss over 9 epochs. The x-axis represents the number of epochs, ranging from 0 to 8, and the y-axis represents the loss, ranging from 0.3 to 0.6. The training loss is depicted with a solid blue line and circular markers, showing a consistent decrease across all epochs. The validation loss is represented with a dashed orange line and cross markers, initially decreasing and then slightly increasing in later epochs. The graph includes a legend indicating 'Training Loss' and 'Validation Loss.\n"
          ]
        }
      ],
      "source": [
        "# Plot loss\n",
        "plt.figure(figsize=(12, 6))\n",
        "plt.plot(history.history['loss'], label='Training Loss', linestyle='solid', marker='o')\n",
        "plt.plot(history.history['val_loss'], label='Validation Loss', linestyle='dashed', marker='x')\n",
        "plt.xlabel('Epochs')\n",
        "plt.ylabel('Loss')\n",
        "plt.title('Training and Validation Loss')\n",
        "plt.legend(loc='best')\n",
        "plt.grid(True)  # Add grid lines for better readability\n",
        "plt.show()\n",
        "# Provide the alt text as a printed description\n",
        "alt_text = \"A line plot showing the Training and Validation Loss over 9 epochs. The x-axis represents the number of epochs, ranging from 0 to 8, and the y-axis represents the loss, ranging from 0.3 to 0.6. The training loss is depicted with a solid blue line and circular markers, showing a consistent decrease across all epochs. The validation loss is represented with a dashed orange line and cross markers, initially decreasing and then slightly increasing in later epochs. The graph includes a legend indicating 'Training Loss' and 'Validation Loss.\"\n",
        "print(f\"Alt Text: {alt_text}\")"
      ]
    },
    {
      "cell_type": "markdown",
      "id": "aQQ1gGns_diE",
      "metadata": {
        "id": "aQQ1gGns_diE"
      },
      "source": [
        "In this plot, the circular markers represent the training loss, while the dashed lines with cross markers represent the validation loss over the epochs.\n",
        "\n",
        "The training loss decreases steadily across all epochs, which is expected as the model optimizes its weights to minimize errors on the training data. On the other hand, the validation loss initially decreases but begins to increase after a few epochs. This suggests that while the model is improving its performance on the training data, it starts to overfit, performing worse on unseen data after a certain point.\n",
        "\n",
        "Since early stopping was applied, the training automatically stopped after identifying the optimal point where the validation loss started to increase. This ensures the model achieves the best possible performance without overfitting to the training data.\n",
        "\n"
      ]
    },
    {
      "cell_type": "markdown",
      "id": "5eebde13",
      "metadata": {
        "id": "5eebde13"
      },
      "source": [
        "## **Load and Use the Model**\n",
        "Let’s load the saved model and use it to predict sentiment for new text data. First, we load the model from the saved file. Then, we process the new input text by tokenizing and padding it, just like we did during training. Finally, we pass the prepared data to the model for prediction, where the output indicates the sentiment: closer to 1 for positive and closer to 0 for negative.\n",
        "\n",
        "This step shows how to apply the trained model to real-world scenarios!"
      ]
    },
    {
      "cell_type": "code",
      "execution_count": null,
      "id": "d9bd0886",
      "metadata": {
        "colab": {
          "base_uri": "https://localhost:8080/"
        },
        "id": "d9bd0886",
        "outputId": "6bc3d3d2-f028-4a4f-c4fd-0dd6dfad46d7"
      },
      "outputs": [
        {
          "name": "stderr",
          "output_type": "stream",
          "text": [
            "WARNING:absl:Compiled the loaded model, but the compiled metrics have yet to be built. `model.compile_metrics` will be empty until you train or evaluate the model.\n"
          ]
        },
        {
          "name": "stdout",
          "output_type": "stream",
          "text": [
            "\u001b[1m1/1\u001b[0m \u001b[32m━━━━━━━━━━━━━━━━━━━━\u001b[0m\u001b[37m\u001b[0m \u001b[1m1s\u001b[0m 649ms/step\n",
            "Prediction: 0.9866\n"
          ]
        }
      ],
      "source": [
        "# Load the model\n",
        "loaded_model = tf.keras.models.load_model('sentiment_analysis_glove_bilstm.h5')\n",
        "\n",
        "# Predict on new data\n",
        "sample_text = [\"The movie was fantastic! I really enjoyed it.\"]\n",
        "sample_seq = tokenizer.texts_to_sequences(sample_text)\n",
        "sample_padded = pad_sequences(sample_seq, maxlen=max_length, padding=padding_type, truncating=trunc_type)\n",
        "prediction = loaded_model.predict(sample_padded)\n",
        "print(f'Prediction: {prediction[0][0]:.4f}')"
      ]
    },
    {
      "cell_type": "markdown",
      "id": "854f9a86",
      "metadata": {
        "id": "854f9a86"
      },
      "source": [
        "## **Conclusion and Future Directions**\n",
        "\n",
        "This tutorial demonstrated the use of BiLSTM with pretrained GloVe embeddings for sentiment analysis, effectively capturing contextual relationships for accurate predictions. However, performance depends on the quality and domain of input data.\n",
        "\n",
        "To improve, consider dynamic hyperparameter tuning with tools like Optuna and integrating ensemble models like BiLSTM with BERT. Apply data augmentation techniques, such as back-translation, to enhance generalization. Use tools like LIME or SHAP for better interpretability and insights. Finally, prepare the model for deployment by converting it to TensorFlow Lite or ONNX for use in mobile or web applications."
      ]
    },
    {
      "cell_type": "markdown",
      "metadata": {
        "id": "68a5b8bb"
      },
      "source": [
        "\n",
        "\n",
        "\n",
        "\n",
        "## GitHub Repository\n",
        "You can find the source code and updates for this tutorial on GitHub:\n",
        "[MLNN GitHub Repository](https://github.com/AnsiaNijas/MLNN_Tutorials)\n",
        "\n",
        "You can execute the code in Google Colab using the following link: [Sentiment Analysis using GloVe and BiLSTM on IMDb Dataset](https://colab.research.google.com/github/AnsiaNijas/MLNN_Tutorials/blob/main/sentiment_analysis_glove_bilstm_imdb.ipynb).\n"
      ],
      "id": "68a5b8bb"
    },
    {
      "cell_type": "markdown",
      "source": [
        "\n",
        "## References\n",
        "\n",
        "- Aburass, S., Dorgham, O., & Al Shaqsi, J., 2023. A Hybrid Machine Learning Model for Classifying Gene Mutations in Cancer Using LSTM, BiLSTM, CNN, GRU, and GloVe. arXiv. Available at: https://arxiv.org/abs/2307.14361 [Accessed 12 Dec. 2024].\n",
        "- Keras, 2023. Available at: [https://keras.io/](https://keras.io/) [Accessed 5 Dec. 2024].\n",
        "- TensorFlow, 2023. Available at: [https://www.tensorflow.org/](https://www.tensorflow.org/) [Accessed 2 Dec. 2024].\n",
        "- Wu, J., Ren, P., Song, B., Zhang, R., Zhao, C., & Zhang, X., 2023. Data Glove-Based Gesture Recognition Using CNN-BiLSTM Model with Attention Mechanism. PLOS ONE. Available at: https://journals.plos.org/plosone/article?id=10.1371%2Fjournal.pone.0294174 [Accessed 12 Dec. 2024].\n",
        "\n"
      ],
      "metadata": {
        "id": "c9eMWHtF--LE"
      },
      "id": "c9eMWHtF--LE"
    },
    {
      "cell_type": "markdown",
      "source": [
        "---\n",
        "<div style=\"text-align: center; font-size: 0.9em; color: grey; margin-top: 20px;\">\n",
        "    This tutorial is licensed under the <a href=\"https://github.com/AnsiaNijas/MLNN_Tutorials/blob/main/LICENSE\" target=\"_blank\">MIT License</a>.\n",
        "</div>"
      ],
      "metadata": {
        "id": "mBVOVB4n-Y8V"
      },
      "id": "mBVOVB4n-Y8V"
    }
  ],
  "metadata": {
    "colab": {
      "provenance": [],
      "include_colab_link": true
    },
    "kernelspec": {
      "display_name": "Python 3",
      "name": "python3"
    },
    "language_info": {
      "name": "python"
    }
  },
  "nbformat": 4,
  "nbformat_minor": 5
}